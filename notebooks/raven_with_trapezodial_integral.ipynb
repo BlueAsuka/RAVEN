{
 "cells": [
  {
   "cell_type": "code",
   "execution_count": 67,
   "metadata": {},
   "outputs": [],
   "source": [
    "import os\n",
    "import re\n",
    "import sys\n",
    "sys.path.append('../')\n",
    "import json\n",
    "import pywt\n",
    "\n",
    "import numpy as np\n",
    "import pandas as pd\n",
    "from scipy.integrate import simpson\n",
    "from sklearn.linear_model import RidgeClassifier\n",
    "from tqdm import tqdm\n",
    "from typing import List\n",
    "from transform import TimeSeriesTransform\n",
    "from concurrent.futures import ThreadPoolExecutor, as_completed"
   ]
  },
  {
   "cell_type": "code",
   "execution_count": 68,
   "metadata": {},
   "outputs": [],
   "source": [
    "cfg = json.load(open(\"../config/config.json\"))\n",
    "\n",
    "ts_trans = TimeSeriesTransform(cfg)"
   ]
  },
  {
   "cell_type": "code",
   "execution_count": 69,
   "metadata": {},
   "outputs": [],
   "source": [
    "INSTANCES_DIR = '../data/linear_acuator/instances/'\n",
    "INFERENCE_DIR = '../data/linear_acuator/inference/'\n",
    "STATES = ['normal', \n",
    "            'backlash1', 'backlash2',\n",
    "            'lackLubrication1', 'lackLubrication2',\n",
    "            'spalling1', 'spalling2', 'spalling3', 'spalling4', 'spalling5', 'spalling6', 'spalling7', 'spalling8']\n",
    "LOADS= ['20kg', '40kg', '-40kg']"
   ]
  },
  {
   "cell_type": "code",
   "execution_count": 70,
   "metadata": {},
   "outputs": [],
   "source": [
    "load = '20kg'\n",
    "filenames_20kg = [os.listdir(os.path.join(INFERENCE_DIR, load, state)) for state in STATES]\n",
    "filenames_20kg = [filename for sublist in filenames_20kg for filename in sublist]\n",
    "\n",
    "load = '40kg'\n",
    "filenames_40kg = [os.listdir(os.path.join(INFERENCE_DIR, load, state)) for state in STATES]\n",
    "filenames_40kg = [filename for sublist in filenames_40kg for filename in sublist]\n",
    "\n",
    "load = '-40kg'\n",
    "filenames_m40kg = [os.listdir(os.path.join(INFERENCE_DIR, load, state)) for state in STATES]\n",
    "filenames_m40kg = [filename for sublist in filenames_m40kg for filename in sublist]"
   ]
  },
  {
   "cell_type": "code",
   "execution_count": 71,
   "metadata": {},
   "outputs": [],
   "source": [
    "def get_X_y(filenames, load):\n",
    "    X, y = [], []\n",
    "    for filename in filenames:\n",
    "        load_num = load[:-2]\n",
    "        state = re.match(fr'(.*)_{load_num}', filename).group(1)\n",
    "        df = pd.read_csv(os.path.join(INFERENCE_DIR, load, state, filename))\n",
    "        tmp_cur = ts_trans.smoothing(ts_df=df, field='current')\n",
    "        # tmp_pos = ts_transform.smoothing(ts_df=df, field='position_error')\n",
    "        X.append(tmp_cur)\n",
    "        y.append(state)\n",
    "    return X, y"
   ]
  },
  {
   "cell_type": "code",
   "execution_count": 72,
   "metadata": {},
   "outputs": [],
   "source": [
    "X_20kg, y_20kg = get_X_y(filenames_20kg, load='20kg')\n",
    "X_40kg, y_40kg = get_X_y(filenames_40kg, load='40kg')\n",
    "X_m40kg, y_m40kg = get_X_y(filenames_m40kg, load='-40kg')"
   ]
  },
  {
   "cell_type": "code",
   "execution_count": 73,
   "metadata": {},
   "outputs": [],
   "source": [
    "lower_bound = 1   # Lower bound of the range (inclusive)\n",
    "upper_bound = 1000  # Upper bound of the range (exclusive)\n",
    "n_kernels = 1000\n",
    "np.random.seed(42)  # for reproducibility\n",
    "random_scales = np.random.uniform(lower_bound, upper_bound, n_kernels)\n",
    "wavelet = 'morl'  # Morlet wavelet for CWT"
   ]
  },
  {
   "cell_type": "code",
   "execution_count": 74,
   "metadata": {},
   "outputs": [],
   "source": [
    "def trapezoidal_integral(x: List[float], y: List[float]) -> float:\n",
    "    \"\"\"\n",
    "    Approximates the integral of a function given its data points using the Trapezoidal Rule.\n",
    "    \n",
    "    Parameters:\n",
    "    x : array-like\n",
    "        Array of x values (data points along the x-axis, uniformly spaced).\n",
    "    y : array-like\n",
    "        Array of y values (function values at each x).\n",
    "    \n",
    "    Returns:\n",
    "    float\n",
    "        The approximate integral value.\n",
    "    \"\"\"\n",
    "    \n",
    "    h = x[1:] - x[:-1]  # Step sizes\n",
    "    integral = np.sum((h / 2) * (y[:-1] + y[1:]))  # Trapezoidal Rule\n",
    "    return integral"
   ]
  },
  {
   "cell_type": "code",
   "execution_count": 75,
   "metadata": {},
   "outputs": [
    {
     "data": {
      "text/plain": [
       "(1000, 324)"
      ]
     },
     "execution_count": 75,
     "metadata": {},
     "output_type": "execute_result"
    }
   ],
   "source": [
    "coefficients, _ = pywt.cwt(X_20kg[0], random_scales, wavelet, sampling_period=1/400)\n",
    "coefficients.shape"
   ]
  },
  {
   "cell_type": "code",
   "execution_count": 76,
   "metadata": {},
   "outputs": [
    {
     "data": {
      "text/plain": [
       "(1000, 324)"
      ]
     },
     "execution_count": 76,
     "metadata": {},
     "output_type": "execute_result"
    }
   ],
   "source": [
    "x_arr = np.arange(0, len(coefficients[0]))\n",
    "x_arr = np.tile(x_arr, (coefficients.shape[0], 1))\n",
    "x_arr.shape"
   ]
  },
  {
   "cell_type": "code",
   "execution_count": 86,
   "metadata": {},
   "outputs": [
    {
     "data": {
      "text/plain": [
       "(1000,)"
      ]
     },
     "execution_count": 86,
     "metadata": {},
     "output_type": "execute_result"
    }
   ],
   "source": [
    "res = np.array([trapezoidal_integral(x_arr[i], coefficients[i]) for i in range(coefficients.shape[0])])\n",
    "res.shape"
   ]
  },
  {
   "cell_type": "code",
   "execution_count": 78,
   "metadata": {},
   "outputs": [],
   "source": [
    "def raven(sample, random_scales, wavelet, trapezoidal_integral):\n",
    "    coefficients, _ = pywt.cwt(sample, random_scales, wavelet, sampling_period=1/400)\n",
    "    x_arr = np.arange(0, len(coefficients[0]))\n",
    "    x_arr = np.tile(x_arr, (coefficients.shape[0], 1))\n",
    "    integral = np.array([trapezoidal_integral(x_arr[i], coefficients[i]) for i in range(coefficients.shape[0])])\n",
    "    return integral"
   ]
  },
  {
   "cell_type": "code",
   "execution_count": 79,
   "metadata": {},
   "outputs": [],
   "source": [
    "def raven_parallel(X, random_scales, wavelet, trapezoidal_integral, max_workers=8):\n",
    "    raven_results = []\n",
    "    with ThreadPoolExecutor(max_workers=max_workers) as executor:\n",
    "        futures = [executor.submit(raven, X[i], random_scales, wavelet, trapezoidal_integral)\n",
    "                   for i in range(len(X))]\n",
    "        for future in tqdm(futures):\n",
    "            raven_results.append(future.result())\n",
    "    return raven_results"
   ]
  },
  {
   "cell_type": "code",
   "execution_count": 80,
   "metadata": {},
   "outputs": [
    {
     "name": "stderr",
     "output_type": "stream",
     "text": [
      "100%|██████████| 195/195 [00:20<00:00,  9.40it/s]\n",
      "100%|██████████| 193/193 [00:19<00:00,  9.84it/s]\n",
      "100%|██████████| 195/195 [00:22<00:00,  8.85it/s]\n"
     ]
    }
   ],
   "source": [
    "raven_results_20kg_p = raven_parallel(X_20kg, random_scales, wavelet, trapezoidal_integral)\n",
    "raven_results_40kg_p = raven_parallel(X_40kg, random_scales, wavelet, trapezoidal_integral)\n",
    "raven_results_m40kg_p = raven_parallel(X_m40kg, random_scales, wavelet, trapezoidal_integral)"
   ]
  },
  {
   "cell_type": "code",
   "execution_count": 81,
   "metadata": {},
   "outputs": [
    {
     "name": "stdout",
     "output_type": "stream",
     "text": [
      "20kg: 0.958974358974359\n"
     ]
    }
   ],
   "source": [
    "ridge = RidgeClassifier()\n",
    "ridge.fit(raven_results_20kg_p, y_20kg)\n",
    "print(f'20kg: {ridge.score(raven_results_20kg_p, y_20kg)}')"
   ]
  },
  {
   "cell_type": "code",
   "execution_count": 82,
   "metadata": {},
   "outputs": [
    {
     "name": "stdout",
     "output_type": "stream",
     "text": [
      "40kg: 0.9481865284974094\n"
     ]
    }
   ],
   "source": [
    "ridge = RidgeClassifier()\n",
    "ridge.fit(raven_results_40kg_p, y_40kg)\n",
    "print(f'40kg: {ridge.score(raven_results_40kg_p, y_40kg)}')"
   ]
  },
  {
   "cell_type": "code",
   "execution_count": 83,
   "metadata": {},
   "outputs": [
    {
     "name": "stdout",
     "output_type": "stream",
     "text": [
      "-40kg: 0.9435897435897436\n"
     ]
    }
   ],
   "source": [
    "ridge = RidgeClassifier()\n",
    "ridge.fit(raven_results_m40kg_p, y_m40kg)\n",
    "print(f'-40kg: {ridge.score(raven_results_m40kg_p, y_m40kg)}')"
   ]
  },
  {
   "cell_type": "code",
   "execution_count": 84,
   "metadata": {},
   "outputs": [
    {
     "data": {
      "text/plain": [
       "array(['normal', 'normal', 'normal', 'normal', 'spalling3', 'normal',\n",
       "       'normal', 'normal', 'normal', 'normal', 'normal', 'normal',\n",
       "       'normal', 'normal', 'normal', 'backlash1', 'backlash1',\n",
       "       'backlash1', 'backlash1', 'backlash1', 'backlash1', 'backlash1',\n",
       "       'backlash1', 'backlash1', 'backlash1', 'backlash1', 'backlash1',\n",
       "       'backlash1', 'backlash1', 'backlash1', 'backlash2', 'backlash2',\n",
       "       'backlash2', 'backlash2', 'backlash2', 'backlash2', 'backlash2',\n",
       "       'backlash2', 'backlash2', 'backlash2', 'backlash2', 'backlash2',\n",
       "       'backlash2', 'backlash2', 'backlash2', 'lackLubrication1',\n",
       "       'lackLubrication1', 'lackLubrication1', 'lackLubrication1',\n",
       "       'lackLubrication1', 'lackLubrication1', 'lackLubrication1',\n",
       "       'lackLubrication1', 'lackLubrication1', 'lackLubrication1',\n",
       "       'lackLubrication1', 'lackLubrication1', 'lackLubrication1',\n",
       "       'lackLubrication1', 'lackLubrication1', 'lackLubrication2',\n",
       "       'lackLubrication2', 'lackLubrication2', 'lackLubrication2',\n",
       "       'lackLubrication2', 'lackLubrication2', 'lackLubrication2',\n",
       "       'lackLubrication2', 'lackLubrication2', 'lackLubrication2',\n",
       "       'lackLubrication2', 'lackLubrication2', 'lackLubrication2',\n",
       "       'lackLubrication2', 'lackLubrication2', 'spalling1', 'spalling1',\n",
       "       'spalling1', 'spalling1', 'spalling8', 'spalling1', 'spalling1',\n",
       "       'spalling1', 'spalling1', 'spalling1', 'spalling1', 'spalling1',\n",
       "       'spalling1', 'spalling1', 'spalling1', 'spalling2', 'spalling2',\n",
       "       'spalling2', 'spalling2', 'spalling2', 'spalling2', 'spalling2',\n",
       "       'spalling2', 'spalling2', 'spalling2', 'spalling8', 'spalling2',\n",
       "       'spalling2', 'spalling2', 'spalling2', 'spalling3', 'spalling3',\n",
       "       'spalling3', 'spalling3', 'spalling3', 'spalling3', 'spalling3',\n",
       "       'spalling3', 'spalling3', 'spalling3', 'spalling3', 'spalling3',\n",
       "       'spalling3', 'spalling3', 'spalling3', 'spalling4', 'normal',\n",
       "       'spalling4', 'spalling5', 'spalling4', 'spalling4', 'spalling4',\n",
       "       'spalling4', 'spalling6', 'spalling5', 'spalling4', 'spalling4',\n",
       "       'spalling7', 'spalling4', 'spalling4', 'spalling5', 'spalling5',\n",
       "       'spalling5', 'spalling5', 'spalling5', 'spalling5', 'spalling5',\n",
       "       'spalling5', 'spalling5', 'spalling5', 'spalling5', 'spalling5',\n",
       "       'spalling5', 'spalling5', 'spalling5', 'spalling6', 'spalling6',\n",
       "       'spalling6', 'spalling7', 'spalling6', 'spalling6', 'spalling7',\n",
       "       'spalling6', 'spalling6', 'spalling6', 'spalling6', 'spalling6',\n",
       "       'spalling6', 'spalling6', 'spalling6', 'lackLubrication1',\n",
       "       'spalling7', 'spalling7', 'spalling7', 'spalling7', 'spalling7',\n",
       "       'spalling7', 'spalling7', 'spalling7', 'spalling7', 'spalling7',\n",
       "       'spalling7', 'spalling7', 'spalling7', 'spalling7', 'spalling8',\n",
       "       'spalling8', 'spalling8', 'spalling8', 'spalling8', 'spalling8',\n",
       "       'spalling8', 'spalling8', 'spalling8', 'spalling8', 'spalling8',\n",
       "       'spalling8', 'spalling8', 'spalling8', 'spalling8'], dtype='<U16')"
      ]
     },
     "execution_count": 84,
     "metadata": {},
     "output_type": "execute_result"
    }
   ],
   "source": [
    "ridge.predict(raven_results_m40kg_p)"
   ]
  },
  {
   "cell_type": "code",
   "execution_count": 85,
   "metadata": {},
   "outputs": [
    {
     "data": {
      "text/plain": [
       "array(['normal', 'normal', 'normal', 'normal', 'normal', 'normal',\n",
       "       'normal', 'normal', 'normal', 'normal', 'normal', 'normal',\n",
       "       'normal', 'normal', 'normal', 'backlash1', 'backlash1',\n",
       "       'backlash1', 'backlash1', 'backlash1', 'backlash1', 'backlash1',\n",
       "       'backlash1', 'backlash1', 'backlash1', 'backlash1', 'backlash1',\n",
       "       'backlash1', 'backlash1', 'backlash1', 'backlash2', 'backlash2',\n",
       "       'backlash2', 'backlash2', 'backlash2', 'backlash2', 'backlash2',\n",
       "       'backlash2', 'backlash2', 'backlash2', 'backlash2', 'backlash2',\n",
       "       'backlash2', 'backlash2', 'backlash2', 'lackLubrication1',\n",
       "       'lackLubrication1', 'lackLubrication1', 'lackLubrication1',\n",
       "       'lackLubrication1', 'lackLubrication1', 'lackLubrication1',\n",
       "       'lackLubrication1', 'lackLubrication1', 'lackLubrication1',\n",
       "       'lackLubrication1', 'lackLubrication1', 'lackLubrication1',\n",
       "       'lackLubrication1', 'lackLubrication1', 'lackLubrication2',\n",
       "       'lackLubrication2', 'lackLubrication2', 'lackLubrication2',\n",
       "       'lackLubrication2', 'lackLubrication2', 'lackLubrication2',\n",
       "       'lackLubrication2', 'lackLubrication2', 'lackLubrication2',\n",
       "       'lackLubrication2', 'lackLubrication2', 'lackLubrication2',\n",
       "       'lackLubrication2', 'lackLubrication2', 'spalling1', 'spalling1',\n",
       "       'spalling1', 'spalling1', 'spalling1', 'spalling1', 'spalling1',\n",
       "       'spalling1', 'spalling1', 'spalling1', 'spalling1', 'spalling1',\n",
       "       'spalling1', 'spalling1', 'spalling1', 'spalling2', 'spalling2',\n",
       "       'spalling2', 'spalling2', 'spalling2', 'spalling2', 'spalling2',\n",
       "       'spalling2', 'spalling2', 'spalling2', 'spalling2', 'spalling2',\n",
       "       'spalling2', 'spalling2', 'spalling2', 'spalling3', 'spalling3',\n",
       "       'spalling3', 'spalling3', 'spalling3', 'spalling3', 'spalling3',\n",
       "       'spalling3', 'spalling3', 'spalling3', 'spalling3', 'spalling3',\n",
       "       'spalling3', 'spalling3', 'spalling3', 'spalling4', 'spalling4',\n",
       "       'spalling4', 'spalling4', 'spalling4', 'spalling4', 'spalling4',\n",
       "       'spalling4', 'spalling4', 'spalling4', 'spalling4', 'spalling4',\n",
       "       'spalling4', 'spalling4', 'spalling4', 'spalling5', 'spalling5',\n",
       "       'spalling5', 'spalling5', 'spalling5', 'spalling5', 'spalling5',\n",
       "       'spalling5', 'spalling5', 'spalling5', 'spalling5', 'spalling5',\n",
       "       'spalling5', 'spalling5', 'spalling5', 'spalling6', 'spalling6',\n",
       "       'spalling6', 'spalling6', 'spalling6', 'spalling6', 'spalling6',\n",
       "       'spalling6', 'spalling6', 'spalling6', 'spalling6', 'spalling6',\n",
       "       'spalling6', 'spalling6', 'spalling6', 'spalling7', 'spalling7',\n",
       "       'spalling7', 'spalling7', 'spalling7', 'spalling7', 'spalling7',\n",
       "       'spalling7', 'spalling7', 'spalling7', 'spalling7', 'spalling7',\n",
       "       'spalling7', 'spalling7', 'spalling7', 'spalling8', 'spalling8',\n",
       "       'spalling8', 'spalling8', 'spalling8', 'spalling8', 'spalling8',\n",
       "       'spalling8', 'spalling8', 'spalling8', 'spalling8', 'spalling8',\n",
       "       'spalling8', 'spalling8', 'spalling8'], dtype='<U16')"
      ]
     },
     "execution_count": 85,
     "metadata": {},
     "output_type": "execute_result"
    }
   ],
   "source": [
    "np.array(y_m40kg)"
   ]
  },
  {
   "cell_type": "code",
   "execution_count": null,
   "metadata": {},
   "outputs": [],
   "source": []
  }
 ],
 "metadata": {
  "kernelspec": {
   "display_name": "agent",
   "language": "python",
   "name": "python3"
  },
  "language_info": {
   "codemirror_mode": {
    "name": "ipython",
    "version": 3
   },
   "file_extension": ".py",
   "mimetype": "text/x-python",
   "name": "python",
   "nbconvert_exporter": "python",
   "pygments_lexer": "ipython3",
   "version": "3.11.5"
  }
 },
 "nbformat": 4,
 "nbformat_minor": 2
}
