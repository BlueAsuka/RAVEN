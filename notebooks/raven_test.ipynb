{
 "cells": [
  {
   "cell_type": "code",
   "execution_count": 12,
   "metadata": {},
   "outputs": [],
   "source": [
    "import os\n",
    "import re\n",
    "import sys\n",
    "sys.path.append('../')\n",
    "import json\n",
    "import pywt\n",
    "\n",
    "import numpy as np\n",
    "import pandas as pd\n",
    "import matplotlib.pyplot as plt\n",
    "from scipy.integrate import simpson\n",
    "from sklearn.linear_model import RidgeClassifier\n",
    "from tqdm import tqdm\n",
    "\n",
    "from transform import TimeSeriesTransform"
   ]
  },
  {
   "cell_type": "code",
   "execution_count": 13,
   "metadata": {},
   "outputs": [],
   "source": [
    "cfg = json.load(open(\"../config/config.json\"))\n",
    "\n",
    "ts_trans = TimeSeriesTransform(cfg)"
   ]
  },
  {
   "cell_type": "code",
   "execution_count": 14,
   "metadata": {},
   "outputs": [],
   "source": [
    "INSTANCES_DIR = '../data/linear_acuator/instances/'\n",
    "INFERENCE_DIR = '../data/linear_acuator/inference/'\n",
    "STATES = ['normal', \n",
    "            'backlash1', 'backlash2',\n",
    "            'lackLubrication1', 'lackLubrication2',\n",
    "            'spalling1', 'spalling2', 'spalling3', 'spalling4', 'spalling5', 'spalling6', 'spalling7', 'spalling8']\n",
    "LOADS= ['20kg', '40kg', '-40kg']"
   ]
  },
  {
   "cell_type": "code",
   "execution_count": 15,
   "metadata": {},
   "outputs": [],
   "source": [
    "load = '20kg'\n",
    "filenames = [os.listdir(os.path.join(INSTANCES_DIR, load, state)) for state in STATES]\n",
    "filenames = [filename for sublist in filenames for filename in sublist]"
   ]
  },
  {
   "cell_type": "code",
   "execution_count": 16,
   "metadata": {},
   "outputs": [],
   "source": [
    "X, y = [], []\n",
    "for filename in filenames:\n",
    "    load_num = load[:2]\n",
    "    state = re.match(fr'(.*)_{load_num}', filename).group(1)\n",
    "    df = pd.read_csv(os.path.join(INSTANCES_DIR, load, state, filename))\n",
    "    tmp_cur = ts_trans.smoothing(ts_df=df, field='current')\n",
    "    # tmp_pos = ts_transform.smoothing(ts_df=df, field='position_error')\n",
    "    X.append(tmp_cur)\n",
    "    y.append(state)"
   ]
  },
  {
   "cell_type": "code",
   "execution_count": 17,
   "metadata": {},
   "outputs": [
    {
     "name": "stderr",
     "output_type": "stream",
     "text": [
      "100%|██████████| 455/455 [04:17<00:00,  1.77it/s]"
     ]
    },
    {
     "name": "stdout",
     "output_type": "stream",
     "text": [
      "(455, 1000)\n"
     ]
    },
    {
     "name": "stderr",
     "output_type": "stream",
     "text": [
      "\n"
     ]
    }
   ],
   "source": [
    "# Define scales and perform Continuous Wavelet Transform (CWT)\n",
    "wavelet = 'morl'  # Morlet wavelet for CWT\n",
    "scales = np.arange(1, 1001)  # Range of scales to use for the CWT\n",
    "raven_results = []\n",
    "for i in tqdm(range(len(X))):\n",
    "    coefficients, frequencies = pywt.cwt(X[i], scales, wavelet, sampling_period=1/400)\n",
    "    integral_simps = simpson(coefficients)\n",
    "    raven_results.append(integral_simps)\n",
    "\n",
    "raven_results = np.array(raven_results)\n",
    "print(raven_results.shape)"
   ]
  },
  {
   "cell_type": "code",
   "execution_count": 18,
   "metadata": {},
   "outputs": [
    {
     "data": {
      "text/plain": [
       "0.8351648351648352"
      ]
     },
     "execution_count": 18,
     "metadata": {},
     "output_type": "execute_result"
    }
   ],
   "source": [
    "ridge = RidgeClassifier()\n",
    "ridge.fit(raven_results, y)\n",
    "ridge.score(raven_results, y)"
   ]
  },
  {
   "cell_type": "code",
   "execution_count": null,
   "metadata": {},
   "outputs": [],
   "source": []
  }
 ],
 "metadata": {
  "kernelspec": {
   "display_name": "agent",
   "language": "python",
   "name": "python3"
  },
  "language_info": {
   "codemirror_mode": {
    "name": "ipython",
    "version": 3
   },
   "file_extension": ".py",
   "mimetype": "text/x-python",
   "name": "python",
   "nbconvert_exporter": "python",
   "pygments_lexer": "ipython3",
   "version": "3.11.5"
  }
 },
 "nbformat": 4,
 "nbformat_minor": 2
}
