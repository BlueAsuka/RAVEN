{
 "cells": [
  {
   "cell_type": "code",
   "execution_count": 1,
   "metadata": {},
   "outputs": [],
   "source": [
    "import os\n",
    "import re\n",
    "import sys\n",
    "sys.path.append('../')\n",
    "import json\n",
    "import pywt\n",
    "\n",
    "import numpy as np\n",
    "import pandas as pd\n",
    "import matplotlib.pyplot as plt\n",
    "from scipy.integrate import simpson\n",
    "from sklearn.linear_model import RidgeClassifier\n",
    "from tqdm import tqdm\n",
    "\n",
    "from transform import TimeSeriesTransform"
   ]
  },
  {
   "cell_type": "code",
   "execution_count": 2,
   "metadata": {},
   "outputs": [],
   "source": [
    "cfg = json.load(open(\"../config/config.json\"))\n",
    "\n",
    "ts_trans = TimeSeriesTransform(cfg)"
   ]
  },
  {
   "cell_type": "code",
   "execution_count": 3,
   "metadata": {},
   "outputs": [],
   "source": [
    "INSTANCES_DIR = '../data/linear_acuator/instances/'\n",
    "INFERENCE_DIR = '../data/linear_acuator/inference/'\n",
    "STATES = ['normal', \n",
    "            'backlash1', 'backlash2',\n",
    "            'lackLubrication1', 'lackLubrication2',\n",
    "            'spalling1', 'spalling2', 'spalling3', 'spalling4', 'spalling5', 'spalling6', 'spalling7', 'spalling8']\n",
    "LOADS= ['20kg', '40kg', '-40kg']"
   ]
  },
  {
   "cell_type": "code",
   "execution_count": 28,
   "metadata": {},
   "outputs": [],
   "source": [
    "load = '20kg'\n",
    "filenames_20kg = [os.listdir(os.path.join(INFERENCE_DIR, load, state)) for state in STATES]\n",
    "filenames_20kg = [filename for sublist in filenames_20kg for filename in sublist]\n",
    "\n",
    "load = '40kg'\n",
    "filenames_40kg = [os.listdir(os.path.join(INFERENCE_DIR, load, state)) for state in STATES]\n",
    "filenames_40kg = [filename for sublist in filenames_40kg for filename in sublist]\n",
    "\n",
    "load = '-40kg'\n",
    "filenames_m40kg = [os.listdir(os.path.join(INFERENCE_DIR, load, state)) for state in STATES]\n",
    "filenames_m40kg = [filename for sublist in filenames_m40kg for filename in sublist]"
   ]
  },
  {
   "cell_type": "code",
   "execution_count": 36,
   "metadata": {},
   "outputs": [],
   "source": [
    "def get_X_y(filenames, load):\n",
    "    X, y = [], []\n",
    "    for filename in filenames:\n",
    "        load_num = load[:-2]\n",
    "        state = re.match(fr'(.*)_{load_num}', filename).group(1)\n",
    "        df = pd.read_csv(os.path.join(INFERENCE_DIR, load, state, filename))\n",
    "        tmp_cur = ts_trans.smoothing(ts_df=df, field='current')\n",
    "        # tmp_pos = ts_transform.smoothing(ts_df=df, field='position_error')\n",
    "        X.append(tmp_cur)\n",
    "        y.append(state)\n",
    "    return X, y"
   ]
  },
  {
   "cell_type": "code",
   "execution_count": 38,
   "metadata": {},
   "outputs": [],
   "source": [
    "X_20kg, y_20kg = get_X_y(filenames_20kg, load='20kg')\n",
    "X_40kg, y_40kg = get_X_y(filenames_40kg, load='40kg')\n",
    "X_m40kg, y_m40kg = get_X_y(filenames_m40kg, load='-40kg')"
   ]
  },
  {
   "cell_type": "code",
   "execution_count": 39,
   "metadata": {},
   "outputs": [],
   "source": [
    "lower_bound = 1   # Lower bound of the range (inclusive)\n",
    "upper_bound = 1000  # Upper bound of the range (exclusive)\n",
    "n_kernels = 1000\n",
    "np.random.seed(42)  # for reproducibility\n",
    "random_scales = np.random.uniform(lower_bound, upper_bound, n_kernels)\n",
    "wavelet = 'morl'  # Morlet wavelet for CWT"
   ]
  },
  {
   "cell_type": "code",
   "execution_count": 40,
   "metadata": {},
   "outputs": [],
   "source": [
    "def raven(X):\n",
    "    raven_results = []\n",
    "    for i in tqdm(range(len(X))):\n",
    "        coefficients, _ = pywt.cwt(X[i], random_scales, wavelet, sampling_period=1/400)\n",
    "        integral_simps = simpson(coefficients)\n",
    "        raven_results.append(integral_simps)\n",
    "    return raven_results"
   ]
  },
  {
   "cell_type": "code",
   "execution_count": 41,
   "metadata": {},
   "outputs": [
    {
     "name": "stderr",
     "output_type": "stream",
     "text": [
      "100%|██████████| 195/195 [01:48<00:00,  1.80it/s]\n",
      "100%|██████████| 193/193 [01:46<00:00,  1.81it/s]\n",
      "100%|██████████| 195/195 [01:48<00:00,  1.80it/s]\n"
     ]
    }
   ],
   "source": [
    "raven_results_20kg = raven(X_20kg)\n",
    "raven_results_40kg = raven(X_40kg)\n",
    "raven_results_m40kg = raven(X_m40kg)"
   ]
  },
  {
   "cell_type": "code",
   "execution_count": 45,
   "metadata": {},
   "outputs": [
    {
     "name": "stdout",
     "output_type": "stream",
     "text": [
      "20kg: 0.9692307692307692\n"
     ]
    }
   ],
   "source": [
    "ridge = RidgeClassifier()\n",
    "ridge.fit(raven_results_20kg, y_20kg)\n",
    "print(f'20kg: {ridge.score(raven_results_20kg, y_20kg)}')"
   ]
  },
  {
   "cell_type": "code",
   "execution_count": 46,
   "metadata": {},
   "outputs": [
    {
     "name": "stdout",
     "output_type": "stream",
     "text": [
      "40kg: 0.9637305699481865\n"
     ]
    }
   ],
   "source": [
    "ridge = RidgeClassifier()\n",
    "ridge.fit(raven_results_40kg, y_40kg)\n",
    "print(f'40kg: {ridge.score(raven_results_40kg, y_40kg)}')"
   ]
  },
  {
   "cell_type": "code",
   "execution_count": 47,
   "metadata": {},
   "outputs": [
    {
     "name": "stdout",
     "output_type": "stream",
     "text": [
      "-40kg: 0.9743589743589743\n"
     ]
    }
   ],
   "source": [
    "ridge = RidgeClassifier()\n",
    "ridge.fit(raven_results_m40kg, y_m40kg)\n",
    "print(f'-40kg: {ridge.score(raven_results_m40kg, y_m40kg)}')"
   ]
  },
  {
   "cell_type": "code",
   "execution_count": 48,
   "metadata": {},
   "outputs": [
    {
     "data": {
      "text/plain": [
       "array(['normal', 'normal', 'normal', 'normal', 'spalling3', 'normal',\n",
       "       'normal', 'normal', 'normal', 'normal', 'normal', 'normal',\n",
       "       'normal', 'normal', 'normal', 'backlash1', 'backlash1',\n",
       "       'backlash1', 'backlash1', 'backlash1', 'backlash1', 'backlash1',\n",
       "       'backlash1', 'backlash1', 'backlash1', 'backlash1', 'backlash1',\n",
       "       'backlash1', 'backlash1', 'backlash1', 'backlash2', 'backlash2',\n",
       "       'backlash2', 'backlash2', 'backlash2', 'backlash2', 'backlash2',\n",
       "       'backlash2', 'backlash2', 'backlash2', 'backlash2', 'backlash2',\n",
       "       'backlash2', 'backlash2', 'backlash2', 'lackLubrication1',\n",
       "       'lackLubrication1', 'lackLubrication1', 'lackLubrication1',\n",
       "       'lackLubrication1', 'lackLubrication1', 'lackLubrication1',\n",
       "       'lackLubrication1', 'lackLubrication1', 'lackLubrication1',\n",
       "       'lackLubrication1', 'lackLubrication1', 'lackLubrication1',\n",
       "       'lackLubrication1', 'lackLubrication1', 'lackLubrication2',\n",
       "       'lackLubrication2', 'lackLubrication2', 'lackLubrication2',\n",
       "       'lackLubrication2', 'lackLubrication2', 'lackLubrication2',\n",
       "       'lackLubrication2', 'lackLubrication2', 'lackLubrication2',\n",
       "       'lackLubrication2', 'lackLubrication2', 'lackLubrication2',\n",
       "       'lackLubrication2', 'lackLubrication2', 'spalling1', 'spalling1',\n",
       "       'spalling1', 'spalling1', 'spalling1', 'spalling1', 'spalling1',\n",
       "       'spalling1', 'spalling1', 'spalling1', 'spalling1', 'spalling1',\n",
       "       'spalling1', 'spalling1', 'spalling1', 'spalling2', 'spalling2',\n",
       "       'spalling2', 'spalling2', 'spalling2', 'spalling2', 'spalling2',\n",
       "       'spalling2', 'spalling2', 'spalling2', 'spalling2', 'spalling2',\n",
       "       'spalling2', 'spalling2', 'spalling2', 'spalling3', 'spalling3',\n",
       "       'spalling3', 'spalling3', 'spalling3', 'spalling3', 'spalling3',\n",
       "       'spalling3', 'spalling3', 'spalling3', 'spalling3', 'spalling3',\n",
       "       'spalling3', 'spalling3', 'spalling3', 'spalling4', 'normal',\n",
       "       'spalling4', 'spalling5', 'spalling4', 'spalling4', 'spalling4',\n",
       "       'spalling4', 'spalling4', 'spalling4', 'spalling4', 'spalling4',\n",
       "       'spalling4', 'spalling4', 'spalling4', 'spalling5', 'spalling5',\n",
       "       'spalling5', 'spalling5', 'spalling5', 'spalling5', 'spalling5',\n",
       "       'spalling5', 'spalling5', 'spalling5', 'spalling5', 'spalling5',\n",
       "       'spalling5', 'spalling5', 'spalling5', 'spalling6', 'spalling6',\n",
       "       'spalling6', 'spalling6', 'spalling6', 'spalling6', 'spalling7',\n",
       "       'spalling6', 'spalling6', 'spalling6', 'spalling6', 'spalling6',\n",
       "       'spalling6', 'spalling6', 'spalling6', 'lackLubrication1',\n",
       "       'spalling7', 'spalling7', 'spalling7', 'spalling7', 'spalling7',\n",
       "       'spalling7', 'spalling7', 'spalling7', 'spalling7', 'spalling7',\n",
       "       'spalling7', 'spalling7', 'spalling7', 'spalling7', 'spalling8',\n",
       "       'spalling8', 'spalling8', 'spalling8', 'spalling8', 'spalling8',\n",
       "       'spalling8', 'spalling8', 'spalling8', 'spalling8', 'spalling8',\n",
       "       'spalling8', 'spalling8', 'spalling8', 'spalling8'], dtype='<U16')"
      ]
     },
     "execution_count": 48,
     "metadata": {},
     "output_type": "execute_result"
    }
   ],
   "source": [
    "ridge.predict(raven_results_m40kg)"
   ]
  },
  {
   "cell_type": "code",
   "execution_count": 50,
   "metadata": {},
   "outputs": [
    {
     "data": {
      "text/plain": [
       "array(['normal', 'normal', 'normal', 'normal', 'normal', 'normal',\n",
       "       'normal', 'normal', 'normal', 'normal', 'normal', 'normal',\n",
       "       'normal', 'normal', 'normal', 'backlash1', 'backlash1',\n",
       "       'backlash1', 'backlash1', 'backlash1', 'backlash1', 'backlash1',\n",
       "       'backlash1', 'backlash1', 'backlash1', 'backlash1', 'backlash1',\n",
       "       'backlash1', 'backlash1', 'backlash1', 'backlash2', 'backlash2',\n",
       "       'backlash2', 'backlash2', 'backlash2', 'backlash2', 'backlash2',\n",
       "       'backlash2', 'backlash2', 'backlash2', 'backlash2', 'backlash2',\n",
       "       'backlash2', 'backlash2', 'backlash2', 'lackLubrication1',\n",
       "       'lackLubrication1', 'lackLubrication1', 'lackLubrication1',\n",
       "       'lackLubrication1', 'lackLubrication1', 'lackLubrication1',\n",
       "       'lackLubrication1', 'lackLubrication1', 'lackLubrication1',\n",
       "       'lackLubrication1', 'lackLubrication1', 'lackLubrication1',\n",
       "       'lackLubrication1', 'lackLubrication1', 'lackLubrication2',\n",
       "       'lackLubrication2', 'lackLubrication2', 'lackLubrication2',\n",
       "       'lackLubrication2', 'lackLubrication2', 'lackLubrication2',\n",
       "       'lackLubrication2', 'lackLubrication2', 'lackLubrication2',\n",
       "       'lackLubrication2', 'lackLubrication2', 'lackLubrication2',\n",
       "       'lackLubrication2', 'lackLubrication2', 'spalling1', 'spalling1',\n",
       "       'spalling1', 'spalling1', 'spalling1', 'spalling1', 'spalling1',\n",
       "       'spalling1', 'spalling1', 'spalling1', 'spalling1', 'spalling1',\n",
       "       'spalling1', 'spalling1', 'spalling1', 'spalling2', 'spalling2',\n",
       "       'spalling2', 'spalling2', 'spalling2', 'spalling2', 'spalling2',\n",
       "       'spalling2', 'spalling2', 'spalling2', 'spalling2', 'spalling2',\n",
       "       'spalling2', 'spalling2', 'spalling2', 'spalling3', 'spalling3',\n",
       "       'spalling3', 'spalling3', 'spalling3', 'spalling3', 'spalling3',\n",
       "       'spalling3', 'spalling3', 'spalling3', 'spalling3', 'spalling3',\n",
       "       'spalling3', 'spalling3', 'spalling3', 'spalling4', 'spalling4',\n",
       "       'spalling4', 'spalling4', 'spalling4', 'spalling4', 'spalling4',\n",
       "       'spalling4', 'spalling4', 'spalling4', 'spalling4', 'spalling4',\n",
       "       'spalling4', 'spalling4', 'spalling4', 'spalling5', 'spalling5',\n",
       "       'spalling5', 'spalling5', 'spalling5', 'spalling5', 'spalling5',\n",
       "       'spalling5', 'spalling5', 'spalling5', 'spalling5', 'spalling5',\n",
       "       'spalling5', 'spalling5', 'spalling5', 'spalling6', 'spalling6',\n",
       "       'spalling6', 'spalling6', 'spalling6', 'spalling6', 'spalling6',\n",
       "       'spalling6', 'spalling6', 'spalling6', 'spalling6', 'spalling6',\n",
       "       'spalling6', 'spalling6', 'spalling6', 'spalling7', 'spalling7',\n",
       "       'spalling7', 'spalling7', 'spalling7', 'spalling7', 'spalling7',\n",
       "       'spalling7', 'spalling7', 'spalling7', 'spalling7', 'spalling7',\n",
       "       'spalling7', 'spalling7', 'spalling7', 'spalling8', 'spalling8',\n",
       "       'spalling8', 'spalling8', 'spalling8', 'spalling8', 'spalling8',\n",
       "       'spalling8', 'spalling8', 'spalling8', 'spalling8', 'spalling8',\n",
       "       'spalling8', 'spalling8', 'spalling8'], dtype='<U16')"
      ]
     },
     "execution_count": 50,
     "metadata": {},
     "output_type": "execute_result"
    }
   ],
   "source": [
    "np.array(y_m40kg)"
   ]
  },
  {
   "cell_type": "code",
   "execution_count": null,
   "metadata": {},
   "outputs": [],
   "source": []
  }
 ],
 "metadata": {
  "kernelspec": {
   "display_name": "agent",
   "language": "python",
   "name": "python3"
  },
  "language_info": {
   "codemirror_mode": {
    "name": "ipython",
    "version": 3
   },
   "file_extension": ".py",
   "mimetype": "text/x-python",
   "name": "python",
   "nbconvert_exporter": "python",
   "pygments_lexer": "ipython3",
   "version": "3.11.5"
  }
 },
 "nbformat": 4,
 "nbformat_minor": 2
}
