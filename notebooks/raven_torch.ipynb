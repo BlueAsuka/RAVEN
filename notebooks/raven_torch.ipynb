{
 "cells": [
  {
   "cell_type": "code",
   "execution_count": 3,
   "metadata": {},
   "outputs": [],
   "source": [
    "import torch\n",
    "import pywt\n",
    "import numpy as np\n",
    "from tqdm import tqdm\n",
    "from torch.multiprocessing import Pool"
   ]
  },
  {
   "cell_type": "code",
   "execution_count": null,
   "metadata": {},
   "outputs": [],
   "source": [
    "def simpson_torch(y: np.ndarray, dx: float=1.0):\n",
    "    n = y.size(-1)  # Number of samples along the last dimension\n",
    "    if n % 2 == 0:\n",
    "        raise ValueError(\"Simpson's rule requires an odd number of points.\")\n",
    "\n",
    "    # Simpson's coefficients: [1, 4, 2, 4, 2, ..., 4, 1]\n",
    "    coeffs = torch.ones(n)\n",
    "    coeffs[1:-1:2] = 4\n",
    "    coeffs[2:-1:2] = 2\n",
    "\n",
    "    # Apply Simpson's rule: dx/3 * sum(coeff * f(x))\n",
    "    integral = dx / 3.0 * torch.sum(coeffs * y, dim=-1)\n",
    "    return integral"
   ]
  }
 ],
 "metadata": {
  "kernelspec": {
   "display_name": "agents",
   "language": "python",
   "name": "python3"
  },
  "language_info": {
   "codemirror_mode": {
    "name": "ipython",
    "version": 3
   },
   "file_extension": ".py",
   "mimetype": "text/x-python",
   "name": "python",
   "nbconvert_exporter": "python",
   "pygments_lexer": "ipython3",
   "version": "3.11.9"
  }
 },
 "nbformat": 4,
 "nbformat_minor": 2
}
